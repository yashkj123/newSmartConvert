{
 "cells": [
  {
   "cell_type": "markdown",
   "id": "608c27d9-2c10-411b-b13b-a295d8251663",
   "metadata": {},
   "source": [
    "### ML MODEL BUILDING\n",
    "🎯 Goal: Train a model that predicts if a customer is likely to buy again, and save it as model.pkl."
   ]
  },
  {
   "cell_type": "markdown",
   "id": "adc53bd5-2301-48b7-9014-812a335bff65",
   "metadata": {},
   "source": [
    "### STEP 1: Create a Dataset (RFM Data + Label)"
   ]
  },
  {
   "cell_type": "raw",
   "id": "a86b0c8d-76fd-4ebd-845f-85ac07be9b08",
   "metadata": {},
   "source": [
    "If you already have a real dataset, we’ll use it later. But first, let’s simulate the data to understand the process:"
   ]
  },
  {
   "cell_type": "code",
   "execution_count": 3,
   "id": "07289f3f-fa12-4f56-9e6d-379bb317ccde",
   "metadata": {},
   "outputs": [
    {
     "data": {
      "text/html": [
       "<div>\n",
       "<style scoped>\n",
       "    .dataframe tbody tr th:only-of-type {\n",
       "        vertical-align: middle;\n",
       "    }\n",
       "\n",
       "    .dataframe tbody tr th {\n",
       "        vertical-align: top;\n",
       "    }\n",
       "\n",
       "    .dataframe thead th {\n",
       "        text-align: right;\n",
       "    }\n",
       "</style>\n",
       "<table border=\"1\" class=\"dataframe\">\n",
       "  <thead>\n",
       "    <tr style=\"text-align: right;\">\n",
       "      <th></th>\n",
       "      <th>user_id</th>\n",
       "      <th>recency</th>\n",
       "      <th>frequency</th>\n",
       "      <th>monetary</th>\n",
       "      <th>purchased</th>\n",
       "    </tr>\n",
       "  </thead>\n",
       "  <tbody>\n",
       "    <tr>\n",
       "      <th>0</th>\n",
       "      <td>1</td>\n",
       "      <td>7</td>\n",
       "      <td>3</td>\n",
       "      <td>6714</td>\n",
       "      <td>0</td>\n",
       "    </tr>\n",
       "    <tr>\n",
       "      <th>1</th>\n",
       "      <td>2</td>\n",
       "      <td>20</td>\n",
       "      <td>6</td>\n",
       "      <td>9458</td>\n",
       "      <td>0</td>\n",
       "    </tr>\n",
       "    <tr>\n",
       "      <th>2</th>\n",
       "      <td>3</td>\n",
       "      <td>29</td>\n",
       "      <td>2</td>\n",
       "      <td>6019</td>\n",
       "      <td>1</td>\n",
       "    </tr>\n",
       "    <tr>\n",
       "      <th>3</th>\n",
       "      <td>4</td>\n",
       "      <td>15</td>\n",
       "      <td>9</td>\n",
       "      <td>953</td>\n",
       "      <td>0</td>\n",
       "    </tr>\n",
       "    <tr>\n",
       "      <th>4</th>\n",
       "      <td>5</td>\n",
       "      <td>11</td>\n",
       "      <td>5</td>\n",
       "      <td>4246</td>\n",
       "      <td>0</td>\n",
       "    </tr>\n",
       "  </tbody>\n",
       "</table>\n",
       "</div>"
      ],
      "text/plain": [
       "   user_id  recency  frequency  monetary  purchased\n",
       "0        1        7          3      6714          0\n",
       "1        2       20          6      9458          0\n",
       "2        3       29          2      6019          1\n",
       "3        4       15          9       953          0\n",
       "4        5       11          5      4246          0"
      ]
     },
     "execution_count": 3,
     "metadata": {},
     "output_type": "execute_result"
    }
   ],
   "source": [
    "# Step 1: Simulate fake customer data (RFM + label)\n",
    "import pandas as pd\n",
    "import numpy as np\n",
    "\n",
    "np.random.seed(42)\n",
    "\n",
    "n_users = 200\n",
    "\n",
    "df = pd.DataFrame({\n",
    "    'user_id': np.arange(1, n_users + 1),\n",
    "    'recency': np.random.randint(1, 30, n_users),         # Days since last visit\n",
    "    'frequency': np.random.randint(1, 10, n_users),       # Purchases made\n",
    "    'monetary': np.random.randint(100, 10000, n_users),   # Total spent\n",
    "    'purchased': np.random.choice([0, 1], n_users, p=[0.6, 0.4])  # 0 = not purchased, 1 = purchased\n",
    "})\n",
    "\n",
    "df.head()\n"
   ]
  },
  {
   "cell_type": "markdown",
   "id": "de7fd88f-737a-4c78-908b-56f4bf56f17a",
   "metadata": {},
   "source": [
    "### STEP 2: Train a Naive Bayes Classifier"
   ]
  },
  {
   "cell_type": "raw",
   "id": "82b57121-c3a5-43e8-8504-9b24e1021b01",
   "metadata": {},
   "source": [
    "We use GaussianNB because the features are numeric and continuous."
   ]
  },
  {
   "cell_type": "code",
   "execution_count": 16,
   "id": "a1f90b75-aa64-42d5-90e5-7c373856882f",
   "metadata": {},
   "outputs": [
    {
     "name": "stdout",
     "output_type": "stream",
     "text": [
      "Accuracy: 0.6\n"
     ]
    }
   ],
   "source": [
    "from sklearn.model_selection import train_test_split\n",
    "from sklearn.naive_bayes import GaussianNB\n",
    "from sklearn.metrics import accuracy_score\n",
    "\n",
    "# Step 2: Prepare features (X) and target (y)\n",
    "X = df[['recency', 'frequency', 'monetary']]\n",
    "y = df['purchased']\n",
    "\n",
    "# Step 3: Split data into train and test\n",
    "X_train, X_test, y_train, y_test = train_test_split(X, y, test_size=0.2, random_state=42)\n",
    "\n",
    "# Step 4: Train the model\n",
    "model = GaussianNB()\n",
    "model.fit(X_train, y_train)\n",
    "\n",
    "# Step 5: Test the model\n",
    "y_pred = model.predict(X_test)\n",
    "print(\"Accuracy:\", accuracy_score(y_test, y_pred))\n"
   ]
  },
  {
   "cell_type": "raw",
   "id": "7d7a03d6-96c8-460e-ba01-7efc1f85db96",
   "metadata": {},
   "source": [
    "now we will Save the Trained Model as .pkl"
   ]
  },
  {
   "cell_type": "code",
   "execution_count": 18,
   "id": "35fdfd5a-7270-4184-a632-8b1e6b774e86",
   "metadata": {},
   "outputs": [
    {
     "data": {
      "text/plain": [
       "['model.pkl']"
      ]
     },
     "execution_count": 18,
     "metadata": {},
     "output_type": "execute_result"
    }
   ],
   "source": [
    "import joblib\n",
    "\n",
    "# Step 6: Save the trained model\n",
    "joblib.dump(model, 'model.pkl')\n"
   ]
  },
  {
   "cell_type": "raw",
   "id": "f8fa966e-80d4-4041-a197-934c5861b2eb",
   "metadata": {},
   "source": [
    "🎯 This model.pkl file is what we’ll later load inside Django to predict from uploaded CSVs."
   ]
  },
  {
   "cell_type": "markdown",
   "id": "ad2b6afa-314b-46a1-850a-985a48731174",
   "metadata": {},
   "source": [
    "### STEP 3: DJANGO APP SETUP (Backend Web App)\n",
    "🎯 Goal:\n",
    "Create a Django app that:\n",
    "\n",
    "Accepts CSV upload from user\n",
    "\n",
    "Loads your model.pkl\n",
    "\n",
    "Predicts which users are likely to buy\n",
    "\n",
    "Shows results in a clean table"
   ]
  },
  {
   "cell_type": "raw",
   "id": "b6aab5ab-d3d7-4e56-a327-d2d02b262fae",
   "metadata": {},
   "source": [
    "tools we will use for this :\n",
    "| Tool       | Purpose                      |\n",
    "| ---------- | ---------------------------- |\n",
    "| Django     | To build the web application |\n",
    "| HTML Forms | To upload CSV files          |\n",
    "| Pandas     | To read/process uploaded CSV |\n",
    "| Joblib     | To load your `model.pkl`     |\n"
   ]
  },
  {
   "cell_type": "code",
   "execution_count": null,
   "id": "16d6155e-6533-4fd2-ba4b-26a132db8f2a",
   "metadata": {},
   "outputs": [],
   "source": [
    "pip install django\n"
   ]
  },
  {
   "cell_type": "markdown",
   "id": "1676a170-51fc-43b4-986f-a52da7e378ba",
   "metadata": {},
   "source": [
    "### STEP 3.1 : lets Create Project + App"
   ]
  },
  {
   "cell_type": "raw",
   "id": "7ffeeae9-4872-4834-931f-b6b263d5637c",
   "metadata": {},
   "source": [
    "# 🧠 You run Django setup commands in the terminal.\n",
    "\n",
    "django-admin startproject smartconvert\n",
    "cd smartconvert\n",
    "python manage.py startapp predictor"
   ]
  },
  {
   "cell_type": "markdown",
   "id": "77dbfcaf-8c3c-4663-8e77-76465974b746",
   "metadata": {},
   "source": [
    "### STEP 3.2 : Editing settings.py"
   ]
  },
  {
   "cell_type": "raw",
   "id": "b52d4265-022b-48de-b897-d85bf4c1ca6b",
   "metadata": {},
   "source": [
    " Add Your App to INSTALLED_APPS \n",
    "Find this line:\n",
    "INSTALLED_APPS = [\n",
    "    'django.contrib.admin',\n",
    "    'django.contrib.auth',\n",
    "    ...\n",
    "]\n",
    "And add this inside the list:'predictor',\n",
    "\n",
    "Because this tells Django:\n",
    "\"Hey! I’ve created a new app folder called predictor, please use it.\""
   ]
  },
  {
   "cell_type": "raw",
   "id": "7fe7c573-fa01-44e5-b042-8f89068e7c0e",
   "metadata": {},
   "source": [
    "Add Media Settings (for uploading CSVs)\n",
    "Go to the very bottom of the same file (settings.py) and add this:\n",
    "import os\n",
    "\n",
    "MEDIA_URL = '/media/'\n",
    "MEDIA_ROOT = os.path.join(BASE_DIR, 'uploads')\n",
    "\n",
    "This tells Django:\n",
    "\"When users upload files (like CSVs), save them in a folder called uploads/ at the root level of my project.\""
   ]
  },
  {
   "cell_type": "markdown",
   "id": "75d8a32e-f7aa-4065-9f00-e13a04f7e910",
   "metadata": {},
   "source": [
    "### STEP 3.3— Set Up URL Routing"
   ]
  },
  {
   "cell_type": "raw",
   "id": "5db47c54-03ac-4b29-95e6-7acf7023ff8e",
   "metadata": {},
   "source": [
    "Django needs to know:\n",
    "\"Which Python function should run when a user visits a certain webpage?\"\n",
    "\n",
    "This is done through URL routing — like mapping:\n",
    "| URL | What Happens                                      |\n",
    "| --- | ------------------------------------------------- |\n",
    "| `/` | Run our `upload_file()` view to handle CSV upload |\n"
   ]
  },
  {
   "cell_type": "raw",
   "id": "52bb64a4-84f8-47b4-8e53-425071b23d5e",
   "metadata": {},
   "source": [
    "STEP 1: insdie smartconvert replace or edit this code in urls.py---->"
   ]
  },
  {
   "cell_type": "raw",
   "id": "1fd041c7-c9ba-46dd-87a9-b0ea69935b6b",
   "metadata": {},
   "source": [
    "from django.contrib import admin\n",
    "from django.urls import path, include\n",
    "from django.conf import settings\n",
    "from django.conf.urls.static import static\n",
    "\n",
    "urlpatterns = [\n",
    "    path('admin/', admin.site.urls),\n",
    "    path('', include('predictor.urls')),  # 👈 Our app's URL file\n",
    "]\n",
    "\n",
    "# 👇 This line tells Django where to store uploaded files\n",
    "urlpatterns += static(settings.MEDIA_URL, document_root=settings.MEDIA_ROOT)\n"
   ]
  },
  {
   "cell_type": "raw",
   "id": "f5ade47b-a47f-4e86-bcfd-c86f3941da0c",
   "metadata": {},
   "source": [
    "🔍 Explanation:\n",
    "path('', include('predictor.urls')):\n",
    "This says → “For the homepage /, go look inside predictor/urls.py to find what view to run.”\n",
    "\n",
    "static(...):\n",
    "This lets Django serve uploaded files like CSVs during development."
   ]
  },
  {
   "cell_type": "raw",
   "id": "f555579a-c914-4b7a-9a7f-4764e16cde56",
   "metadata": {},
   "source": [
    "STEP 2 :now in predictor folder create a urls.py file ( it is not created by default danjo we have to do it overselve)\n",
    "\n",
    "and add this code inside that urls.py :\n",
    "\n",
    "from django.urls import path\n",
    "from . import views\n",
    "\n",
    "urlpatterns = [\n",
    "    path('', views.upload_file, name='upload_file'),\n",
    "]\n",
    "--------->🔍This means:\n",
    "When someone visits the homepage /, Django will run the view function called upload_file() from views.py."
   ]
  },
  {
   "cell_type": "markdown",
   "id": "af343126-7458-48b3-a0f9-896fbb5d7de6",
   "metadata": {},
   "source": [
    "### STEP 3.4: Creating the CSV Upload Form"
   ]
  },
  {
   "cell_type": "raw",
   "id": "57bea42a-e3e6-41d2-80d2-1019ccf3cb76",
   "metadata": {},
   "source": [
    "predictor/forms.py (you will create this file)\n",
    "🤔 Why Do We Need This?\n",
    "In Django, we don’t directly handle raw file upload inputs in HTML.\n",
    "Instead, we use a Django Form class to:\n",
    "\n",
    "Accept a file (like CSV) from the user\n",
    "\n",
    "Validate it\n",
    "\n",
    "Pass it to our Python code for processing\n",
    "\n",
    "So now we’ll create a file upload form using Django’s form system.\n",
    "\n"
   ]
  },
  {
   "cell_type": "raw",
   "id": "ca7abc4f-b566-487b-9015-645b4508ce88",
   "metadata": {},
   "source": [
    "step 1 : paste the below code in forms.py\n",
    "\n",
    "\n",
    "from django import forms\n",
    "\n",
    "class UploadCSVForm(forms.Form):\n",
    "    file = forms.FileField()\n",
    "\n",
    "\n",
    "🔍 Explanation:\n",
    "forms.Form: This tells Django, “I want to create a basic form.”\n",
    "file = forms.FileField(): This makes the form include a file input field — where users can upload their CSV file.\n",
    "\n",
    "This form will be used in the frontend later inside upload.html, and Django will automatically handle things like:\n",
    "File validation\n",
    "CSRF protection\n",
    "Input rendering"
   ]
  },
  {
   "cell_type": "markdown",
   "id": "f3e45b48-736c-4f57-bedf-44df0682ef67",
   "metadata": {},
   "source": [
    "### STEP 3.5 — Writing the Main Logic in views.py\n",
    "🎯 What We’ll Do in This Step\n",
    "Show the form to upload a CSV\n",
    "Receive the file when uploaded\n",
    "Read the CSV using Pandas\n",
    "Use your model.pkl to predict\n",
    "Show results in a table format"
   ]
  },
  {
   "cell_type": "raw",
   "id": "0a85841d-2ad0-420f-ac4b-a0a1e19db6f1",
   "metadata": {},
   "source": [
    "✅ Code to Paste in views.py--->"
   ]
  },
  {
   "cell_type": "raw",
   "id": "c19d7f8c-ef42-413e-b972-c8f4e133cd65",
   "metadata": {},
   "source": [
    "import pandas as pd\n",
    "import joblib\n",
    "from django.shortcuts import render\n",
    "from .forms import UploadCSVForm\n",
    "\n",
    "# Load the trained ML model\n",
    "model = joblib.load('model.pkl')\n",
    "\n",
    "def upload_file(request):\n",
    "    if request.method == 'POST':\n",
    "        form = UploadCSVForm(request.POST, request.FILES)\n",
    "        if form.is_valid():\n",
    "            csv_file = request.FILES['file']  # Get uploaded file\n",
    "            df = pd.read_csv(csv_file)       # Read into pandas\n",
    "\n",
    "            # Make sure correct columns exist\n",
    "            if all(col in df.columns for col in ['recency', 'frequency', 'monetary']):\n",
    "                X = df[['recency', 'frequency', 'monetary']]\n",
    "                df['prediction'] = model.predict(X)\n",
    "                return render(request, 'result.html', {'tables': df.to_html()})\n",
    "            else:\n",
    "                return render(request, 'upload.html', {\n",
    "                    'form': form,\n",
    "                    'error': 'CSV must have recency, frequency, and monetary columns.'\n",
    "                })\n",
    "    else:\n",
    "        form = UploadCSVForm()\n",
    "\n",
    "    return render(request, 'upload.html', {'form': form})\n"
   ]
  },
  {
   "cell_type": "raw",
   "id": "a326f2fa-f1f4-4645-8b50-442e5e2a476b",
   "metadata": {},
   "source": [
    "🔍 Line-by-Line Explanation of above thing:\n",
    "| Code                                         | What It Does                                   |\n",
    "| -------------------------------------------- | ---------------------------------------------- |\n",
    "| `joblib.load('model.pkl')`                   | Loads your trained ML model                    |\n",
    "| `UploadCSVForm(request.POST, request.FILES)` | Takes uploaded file from user                  |\n",
    "| `pd.read_csv(csv_file)`                      | Reads CSV into a DataFrame                     |\n",
    "| `model.predict(X)`                           | Makes predictions for all users                |\n",
    "| `df.to_html()`                               | Converts results to a table to show in HTML    |\n",
    "| `render(...)`                                | Sends HTML page + prediction result to browser |\n"
   ]
  },
  {
   "cell_type": "raw",
   "id": "9b3c3bb1-6669-4a1f-80fe-bd844b39d86d",
   "metadata": {},
   "source": [
    "🧠 Safety Check\n",
    "If someone uploads a CSV without correct columns, the app shows an error message instead of crashing."
   ]
  },
  {
   "cell_type": "raw",
   "id": "c0bda1d5-ad42-4312-9071-7b39c1509cfa",
   "metadata": {},
   "source": [
    "✅ After this, your backend logic is complete — Django can now:\n",
    "\n",
    "Accept input\n",
    "\n",
    "Process data\n",
    "\n",
    "Use ML\n",
    "\n",
    "Show output 🎯"
   ]
  },
  {
   "cell_type": "markdown",
   "id": "a011c0ee-4345-474e-be52-1f87c14871f1",
   "metadata": {},
   "source": [
    "### STEP 3.6 — Creating Templates (HTML Pages)"
   ]
  },
  {
   "cell_type": "raw",
   "id": "e5b922a6-3b68-44e7-8dbf-249bb4ec6db4",
   "metadata": {},
   "source": [
    "our frontend part :we will create 2 html files in templates folder for django app to fucntion properly "
   ]
  },
  {
   "cell_type": "raw",
   "id": "2a81f4fd-9e70-43ad-b3d9-461a040d6341",
   "metadata": {},
   "source": [
    "✅ 1. Create upload.html (Upload Form Page)"
   ]
  },
  {
   "cell_type": "raw",
   "id": "1f74e285-f1a4-4e4e-9c0e-62939006201b",
   "metadata": {},
   "source": [
    "<!DOCTYPE html>\n",
    "<html>\n",
    "<head>\n",
    "    <title>Smart Convert - Upload CSV</title>\n",
    "</head>\n",
    "<body>\n",
    "    <h2>Upload Customer Data (CSV)</h2>\n",
    "\n",
    "    {% if error %}\n",
    "        <p style=\"color: red;\">{{ error }}</p>\n",
    "    {% endif %}\n",
    "\n",
    "    <form method=\"POST\" enctype=\"multipart/form-data\">\n",
    "        {% csrf_token %}\n",
    "        {{ form.as_p }}\n",
    "        <button type=\"submit\">Upload</button>\n",
    "    </form>\n",
    "</body>\n",
    "</html>"
   ]
  },
  {
   "cell_type": "raw",
   "id": "da5e1fce-f6c0-4179-b43f-96ebd2f63011",
   "metadata": {},
   "source": [
    "🔍 What’s Happening Here:\n",
    "Shows an <h2> heading\n",
    "\n",
    "Renders the Django form ({{ form.as_p }} means “as paragraph”)\n",
    "\n",
    "Handles errors (like missing columns)\n",
    "\n",
    "Uses csrf_token (Django’s security system for forms)"
   ]
  },
  {
   "cell_type": "raw",
   "id": "6b61e4ad-82d6-4af7-b5af-0f336c9acad0",
   "metadata": {},
   "source": [
    "✅ 2. Create result.html (Show Predictions)"
   ]
  },
  {
   "cell_type": "raw",
   "id": "45eb6696-4435-492a-9c6e-34b57959e623",
   "metadata": {},
   "source": [
    "<!DOCTYPE html>\n",
    "<html>\n",
    "<head>\n",
    "    <title>Prediction Results</title>\n",
    "</head>\n",
    "<body>\n",
    "    <h2>Prediction Results:</h2>\n",
    "    {{ tables|safe }}\n",
    "    <br>\n",
    "    <a href=\"/\">Upload another file</a>\n",
    "</body>\n",
    "</html>"
   ]
  },
  {
   "cell_type": "raw",
   "id": "0081fbf5-9976-4854-9804-83e764f4f9b0",
   "metadata": {},
   "source": [
    "🔍 What’s Happening Here:\n",
    "{{ tables|safe }} shows the output DataFrame (as HTML)\n",
    "\n",
    "|safe tells Django “Don’t escape this table, render it as-is”\n",
    "\n",
    "Adds a link to go back and upload again"
   ]
  },
  {
   "cell_type": "markdown",
   "id": "160563ff-685d-4067-942b-3da231a2a486",
   "metadata": {},
   "source": [
    "### STEP 3.7 — Running the App and Testing It"
   ]
  },
  {
   "cell_type": "raw",
   "id": "332c9e0b-9630-4506-81fa-d065c586cf22",
   "metadata": {},
   "source": [
    "🖥️ Step 1: Apply Migrations\n",
    "In your terminal (not notebook), run:"
   ]
  },
  {
   "cell_type": "raw",
   "id": "a0a4c971-13fd-4dee-8625-3b83383f8340",
   "metadata": {},
   "source": [
    "python manage.py makemigrations\n",
    "python manage.py migrate\n"
   ]
  },
  {
   "cell_type": "raw",
   "id": "e5622916-e0f0-4b50-a299-5a0b5401b5c3",
   "metadata": {},
   "source": [
    "🔍 Why?\n",
    "This sets up Django’s default database tables (for admin panel, user auth, etc.). Even though we aren’t using them yet, this is required."
   ]
  },
  {
   "cell_type": "raw",
   "id": "486213d3-7372-4d6e-9679-1ef86e3bf2ac",
   "metadata": {},
   "source": [
    "🚀 Step 2: Start the Django Server\n",
    "Still in terminal:python manage.py runserver\n",
    "You should see something like:Starting development server at http://127.0.0.1:8000/\n"
   ]
  },
  {
   "cell_type": "raw",
   "id": "d818f2af-dafe-4db7-9938-1151b600b2c5",
   "metadata": {},
   "source": [
    "📂 Step 3: Upload a Test CSV\n",
    "You should see the upload form we created.\n",
    "\n",
    "Try uploading a CSV with columns: recency,frequency,monetary"
   ]
  },
  {
   "cell_type": "markdown",
   "id": "6dbc17cc-7137-4014-9fb2-97ae9513964e",
   "metadata": {},
   "source": [
    "### ✅ step 4 — Frontend with Bootstrap & Chart.js\n",
    "📌 Goal: Make the app visually appealing and dashboard-like"
   ]
  },
  {
   "cell_type": "markdown",
   "id": "dd774964-2178-4b4a-9e17-b32a15005950",
   "metadata": {},
   "source": [
    "### 📍 Step 4.1: Add Bootstrap to Your HTML\n",
    "We’ll update both upload.html and result.html to look more professional using Bootstrap 5."
   ]
  },
  {
   "cell_type": "raw",
   "id": "28bacbfb-1eea-4c2f-a9f8-80a34371c9d9",
   "metadata": {},
   "source": [
    "✅ 1. Update upload.html\n",
    "Replace everything with:"
   ]
  },
  {
   "cell_type": "raw",
   "id": "32411248-2b77-4927-88ae-29143bd73316",
   "metadata": {},
   "source": [
    "<!DOCTYPE html>\n",
    "<html>\n",
    "<head>\n",
    "    <title>Smart Convert - Upload CSV</title>\n",
    "    <link href=\"https://cdn.jsdelivr.net/npm/bootstrap@5.3.0/dist/css/bootstrap.min.css\" rel=\"stylesheet\">\n",
    "</head>\n",
    "<body class=\"bg-light\">\n",
    "    <div class=\"container mt-5\">\n",
    "        <h2 class=\"mb-4\">📄 Upload Customer Data (CSV)</h2>\n",
    "\n",
    "        {% if error %}\n",
    "            <div class=\"alert alert-danger\">{{ error }}</div>\n",
    "        {% endif %}\n",
    "\n",
    "        <form method=\"POST\" enctype=\"multipart/form-data\" class=\"border p-4 bg-white rounded shadow\">\n",
    "            {% csrf_token %}\n",
    "            {{ form.as_p }}\n",
    "            <button type=\"submit\" class=\"btn btn-primary mt-2\">Upload</button>\n",
    "        </form>\n",
    "    </div>\n",
    "</body>\n",
    "</html>\n"
   ]
  },
  {
   "cell_type": "raw",
   "id": "d08b1928-509a-4d8b-a327-a78e4201718c",
   "metadata": {},
   "source": [
    "✅ 2. Update result.html\n",
    "Replace with:"
   ]
  },
  {
   "cell_type": "raw",
   "id": "55aeba60-aae8-4766-bfa1-bdebcfbac3e4",
   "metadata": {},
   "source": [
    "<!DOCTYPE html>\n",
    "<html>\n",
    "<head>\n",
    "    <title>Prediction Results</title>\n",
    "    <link href=\"https://cdn.jsdelivr.net/npm/bootstrap@5.3.0/dist/css/bootstrap.min.css\" rel=\"stylesheet\">\n",
    "    <style>\n",
    "        table {\n",
    "            width: 100%;\n",
    "        }\n",
    "        th, td {\n",
    "            text-align: center;\n",
    "        }\n",
    "    </style>\n",
    "</head>\n",
    "<body class=\"bg-light\">\n",
    "    <div class=\"container mt-5\">\n",
    "        <h2 class=\"mb-4\">📊 Prediction Results</h2>\n",
    "\n",
    "        <div class=\"table-responsive bg-white p-3 rounded shadow\">\n",
    "            {{ tables|safe }}\n",
    "        </div>\n",
    "\n",
    "        <a href=\"/\" class=\"btn btn-secondary mt-3\">Upload Another File</a>\n",
    "    </div>\n",
    "</body>\n",
    "</html>\n"
   ]
  },
  {
   "cell_type": "raw",
   "id": "de5bc1cf-3bf2-4b49-bd5d-3d1a98076fef",
   "metadata": {},
   "source": [
    "🎯 Why This Is Important\n",
    "It improves first impressions for interviews\n",
    "\n",
    "It gives you the look of a real dashboard\n",
    "\n",
    "It makes your GitHub screenshots look professional"
   ]
  },
  {
   "cell_type": "markdown",
   "id": "fdca754a-113c-42d2-918e-de4d7d503a0b",
   "metadata": {},
   "source": [
    "### 🎨 Step 4.2: Adding Charts with Chart.js\n",
    "We’ll create a pie chart showing the percentage of users predicted to buy vs. not buy."
   ]
  },
  {
   "cell_type": "raw",
   "id": "fbd65de8-fba7-418c-8d29-77bf6c1e0a38",
   "metadata": {},
   "source": [
    "⚙️ FULL PLAN\n",
    "You will:\n",
    "\n",
    "Count the predictions in views.py\n",
    "Send the counts to result.html\n",
    "Use Chart.js to draw the pie chart from that data"
   ]
  },
  {
   "cell_type": "raw",
   "id": "7030290a-ef09-4d53-b930-6b9a3ea22f92",
   "metadata": {},
   "source": [
    "🧠 Step 1: Count Predictions in views.py:\n",
    "counts = df['prediction'].value_counts().to_dict()\n",
    "buy_count = counts.get(1, 0)\n",
    "no_buy_count = counts.get(0, 0)\n"
   ]
  },
  {
   "cell_type": "raw",
   "id": "64197fcb-47a8-4c9b-8e4b-cc2e0332ca18",
   "metadata": {},
   "source": [
    "what the above code does is :\n",
    ".value_counts() → Counts how many times 1 and 0 appear\n",
    ".to_dict() → Converts result like {1: 7, 0: 3}\n",
    ".get(key, 0) → Makes sure missing values default to 0"
   ]
  },
  {
   "cell_type": "raw",
   "id": "ff7bf4f6-d8d7-462b-b149-5a73ad1a258b",
   "metadata": {},
   "source": [
    "We're now passing buy_count and no_buy_count into the template:\n",
    "return render(request, 'result.html', {\n",
    "    'tables': df.to_html(),\n",
    "    'buy_count': buy_count,\n",
    "    'no_buy_count': no_buy_count\n",
    "})"
   ]
  },
  {
   "cell_type": "raw",
   "id": "ebfbc909-7ac0-4dfd-a151-4268ee635c61",
   "metadata": {},
   "source": [
    "🎨 Step 2: Update result.html to Include Chart.js"
   ]
  },
  {
   "cell_type": "raw",
   "id": "932b818b-a72e-44d1-bccc-a11ab27e4cd7",
   "metadata": {},
   "source": [
    "<!DOCTYPE html>\n",
    "<html>\n",
    "<head>\n",
    "    <title>Prediction Results</title>\n",
    "\n",
    "    <!-- Bootstrap for styling -->\n",
    "    <link href=\"https://cdn.jsdelivr.net/npm/bootstrap@5.3.0/dist/css/bootstrap.min.css\" rel=\"stylesheet\">\n",
    "\n",
    "    <!-- Chart.js for graphs -->\n",
    "    <script src=\"https://cdn.jsdelivr.net/npm/chart.js\"></script>\n",
    "\n",
    "    <style>\n",
    "        body {\n",
    "            background-color: #f8f9fa;\n",
    "        }\n",
    "        table {\n",
    "            width: 100%;\n",
    "        }\n",
    "        th, td {\n",
    "            text-align: center;\n",
    "        }\n",
    "    </style>\n",
    "</head>\n",
    "<body>\n",
    "    <div class=\"container mt-5\">\n",
    "\n",
    "        <!-- Heading -->\n",
    "        <h2 class=\"mb-4 text-primary\">📊 Prediction Results</h2>\n",
    "\n",
    "        <!-- Chart Card -->\n",
    "        <div class=\"bg-white rounded shadow p-4 mb-4\">\n",
    "            <h5 class=\"mb-3\">Propensity Score Distribution</h5>\n",
    "            <canvas id=\"propensityChart\" height=\"200\"></canvas>\n",
    "        </div>\n",
    "\n",
    "        <!-- Data Table -->\n",
    "        <div class=\"table-responsive bg-white p-4 rounded shadow\">\n",
    "            {{ tables|safe }}\n",
    "        </div>\n",
    "\n",
    "        <a href=\"/\" class=\"btn btn-secondary mt-4\">Upload Another File</a>\n",
    "    </div>\n",
    "\n",
    "    <script>\n",
    "        // Django-passed data (automatically injected)\n",
    "        const buyCount = {{ buy_count }};\n",
    "        const noBuyCount = {{ no_buy_count }};\n",
    "\n",
    "        // Get canvas\n",
    "        const ctx = document.getElementById('propensityChart').getContext('2d');\n",
    "\n",
    "        // Create the pie chart\n",
    "        new Chart(ctx, {\n",
    "            type: 'pie',\n",
    "            data: {\n",
    "                labels: ['Will Buy (1)', 'Will Not Buy (0)'],\n",
    "                datasets: [{\n",
    "                    data: [buyCount, noBuyCount],\n",
    "                    backgroundColor: ['#0d6efd', '#adb5bd']\n",
    "                }]\n",
    "            },\n",
    "            options: {\n",
    "                responsive: true,\n",
    "                plugins: {\n",
    "                    legend: {\n",
    "                        position: 'bottom'\n",
    "                    },\n",
    "                    title: {\n",
    "                        display: true,\n",
    "                        text: 'Predicted Purchase Propensity'\n",
    "                    }\n",
    "                }\n",
    "            }\n",
    "        });\n",
    "    </script>\n",
    "</body>\n",
    "</html>"
   ]
  },
  {
   "cell_type": "raw",
   "id": "4103bdf0-5ad3-4daf-be66-5e5992744ce8",
   "metadata": {},
   "source": [
    "🔍 Let’s Break This Down:\n",
    "🟦 Chart.js CDN:\n",
    "<script src=\"https://cdn.jsdelivr.net/npm/chart.js\"></script>(Loads Chart.js library.)\n",
    "\n",
    "🧱 Canvas Container:\n",
    "<canvas id=\"propensityChart\" height=\"200\"></canvas> (This is where Chart.js will draw the pie chart.)\n",
    "\n",
    "📈 Chart Logic:\n",
    "const buyCount = {{ buy_count }};\n",
    "const noBuyCount = {{ no_buy_count }}; (This takes your Django variables and passes them into JavaScript.\n",
    ")\n",
    "\n",
    "🥧 Pie Chart Config:\n",
    "type: 'pie',\n",
    "labels: ['Will Buy (1)', 'Will Not Buy (0)'],\n",
    "data: [buyCount, noBuyCount],\n",
    "🎨 Colors:\n",
    "Blue: buyers (#0d6efd)\n",
    "Gray: non-buyers (#adb5bd)"
   ]
  },
  {
   "cell_type": "raw",
   "id": "0a96b048-024c-4398-a419-e418f6427478",
   "metadata": {},
   "source": [
    "#############################################"
   ]
  },
  {
   "cell_type": "code",
   "execution_count": null,
   "id": "97a9b165-42b6-4372-96ef-e7fd8d9d38e2",
   "metadata": {},
   "outputs": [],
   "source": []
  }
 ],
 "metadata": {
  "kernelspec": {
   "display_name": "Python 3 (ipykernel)",
   "language": "python",
   "name": "python3"
  },
  "language_info": {
   "codemirror_mode": {
    "name": "ipython",
    "version": 3
   },
   "file_extension": ".py",
   "mimetype": "text/x-python",
   "name": "python",
   "nbconvert_exporter": "python",
   "pygments_lexer": "ipython3",
   "version": "3.12.7"
  }
 },
 "nbformat": 4,
 "nbformat_minor": 5
}
